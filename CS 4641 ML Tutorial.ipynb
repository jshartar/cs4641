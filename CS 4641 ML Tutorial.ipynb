{
 "cells": [
  {
   "cell_type": "markdown",
   "metadata": {},
   "source": [
    "# A Brief Machine Learning Tutorial in python \n",
    "As some of you wanted more practical examples of machine learning algorithms, I created this brief tutorial to showcase some of the notions studied in class. The code is mostly based on Sebastian Raschka's book \"Python Machine Learning\". There is an abundance of resources online or in books that you can refer to for other problems/algorithms. The best way to master coding ML models is to get your hands dirty and code things yourself. Equipped with the theoretical knowledge you gained in class, you should be capable of at least attempting some competitions on kaggle for example. \n",
    "\n",
    "In this tutorial we'll be highlighting the importance of cross-validation and why you should use it to tune your models. "
   ]
  },
  {
   "cell_type": "code",
   "execution_count": 1,
   "metadata": {},
   "outputs": [],
   "source": [
    "import numpy as np\n",
    "import matplotlib.pyplot as plt"
   ]
  },
  {
   "cell_type": "markdown",
   "metadata": {},
   "source": [
    "## Set-up \n",
    "What is the use of machine learning models? In most cases we have this scenario: you have some data and you want to learn something from that data. After gaining that knowledge, you want to be able to use that knowledge to work on data that you haven't seen yet. This exercise usually have the following steps: \n",
    "* Data preprocessing: transform your data into a form that is optimal for the use of learning algorithms\n",
    "* Learning: training and selecting a learning model. This step relies heavily on your experience and knowledge of ML concepts. If you have a classification problem, you'll need to select a classification model. May be some insights from data preprocessing could help you pick the best model. But you'll usually need to try implementing few models before landing on one model. \n",
    "* Evaluation: In this step, you'll need to evaluate and compare the model(s) that you picked previously. Your choice shouldn't be based only on the training set but also on the testing and validation sets. That way you ensure that your model will generalize well on unseen data. \n",
    "* Prediction or generalization: This is the step where you can use your model for unseen data. \n",
    "\n",
    "Let's try to put these steps into practice. In this tutorial we will be using the Wisconsin breast cancer data set. This is the first time I'll be using this dataset so I want to know more about it. "
   ]
  },
  {
   "cell_type": "code",
   "execution_count": 2,
   "metadata": {},
   "outputs": [
    {
     "name": "stdout",
     "output_type": "stream",
     "text": [
      "Breast Cancer Wisconsin (Diagnostic) Database\n",
      "=============================================\n",
      "\n",
      "Notes\n",
      "-----\n",
      "Data Set Characteristics:\n",
      "    :Number of Instances: 569\n",
      "\n",
      "    :Number of Attributes: 30 numeric, predictive attributes and the class\n",
      "\n",
      "    :Attribute Information:\n",
      "        - radius (mean of distances from center to points on the perimeter)\n",
      "        - texture (standard deviation of gray-scale values)\n",
      "        - perimeter\n",
      "        - area\n",
      "        - smoothness (local variation in radius lengths)\n",
      "        - compactness (perimeter^2 / area - 1.0)\n",
      "        - concavity (severity of concave portions of the contour)\n",
      "        - concave points (number of concave portions of the contour)\n",
      "        - symmetry \n",
      "        - fractal dimension (\"coastline approximation\" - 1)\n",
      "\n",
      "        The mean, standard error, and \"worst\" or largest (mean of the three\n",
      "        largest values) of these features were computed for each image,\n",
      "        resulting in 30 features.  For instance, field 3 is Mean Radius, field\n",
      "        13 is Radius SE, field 23 is Worst Radius.\n",
      "\n",
      "        - class:\n",
      "                - WDBC-Malignant\n",
      "                - WDBC-Benign\n",
      "\n",
      "    :Summary Statistics:\n",
      "\n",
      "    ===================================== ====== ======\n",
      "                                           Min    Max\n",
      "    ===================================== ====== ======\n",
      "    radius (mean):                        6.981  28.11\n",
      "    texture (mean):                       9.71   39.28\n",
      "    perimeter (mean):                     43.79  188.5\n",
      "    area (mean):                          143.5  2501.0\n",
      "    smoothness (mean):                    0.053  0.163\n",
      "    compactness (mean):                   0.019  0.345\n",
      "    concavity (mean):                     0.0    0.427\n",
      "    concave points (mean):                0.0    0.201\n",
      "    symmetry (mean):                      0.106  0.304\n",
      "    fractal dimension (mean):             0.05   0.097\n",
      "    radius (standard error):              0.112  2.873\n",
      "    texture (standard error):             0.36   4.885\n",
      "    perimeter (standard error):           0.757  21.98\n",
      "    area (standard error):                6.802  542.2\n",
      "    smoothness (standard error):          0.002  0.031\n",
      "    compactness (standard error):         0.002  0.135\n",
      "    concavity (standard error):           0.0    0.396\n",
      "    concave points (standard error):      0.0    0.053\n",
      "    symmetry (standard error):            0.008  0.079\n",
      "    fractal dimension (standard error):   0.001  0.03\n",
      "    radius (worst):                       7.93   36.04\n",
      "    texture (worst):                      12.02  49.54\n",
      "    perimeter (worst):                    50.41  251.2\n",
      "    area (worst):                         185.2  4254.0\n",
      "    smoothness (worst):                   0.071  0.223\n",
      "    compactness (worst):                  0.027  1.058\n",
      "    concavity (worst):                    0.0    1.252\n",
      "    concave points (worst):               0.0    0.291\n",
      "    symmetry (worst):                     0.156  0.664\n",
      "    fractal dimension (worst):            0.055  0.208\n",
      "    ===================================== ====== ======\n",
      "\n",
      "    :Missing Attribute Values: None\n",
      "\n",
      "    :Class Distribution: 212 - Malignant, 357 - Benign\n",
      "\n",
      "    :Creator:  Dr. William H. Wolberg, W. Nick Street, Olvi L. Mangasarian\n",
      "\n",
      "    :Donor: Nick Street\n",
      "\n",
      "    :Date: November, 1995\n",
      "\n",
      "This is a copy of UCI ML Breast Cancer Wisconsin (Diagnostic) datasets.\n",
      "https://goo.gl/U2Uwz2\n",
      "\n",
      "Features are computed from a digitized image of a fine needle\n",
      "aspirate (FNA) of a breast mass.  They describe\n",
      "characteristics of the cell nuclei present in the image.\n",
      "\n",
      "Separating plane described above was obtained using\n",
      "Multisurface Method-Tree (MSM-T) [K. P. Bennett, \"Decision Tree\n",
      "Construction Via Linear Programming.\" Proceedings of the 4th\n",
      "Midwest Artificial Intelligence and Cognitive Science Society,\n",
      "pp. 97-101, 1992], a classification method which uses linear\n",
      "programming to construct a decision tree.  Relevant features\n",
      "were selected using an exhaustive search in the space of 1-4\n",
      "features and 1-3 separating planes.\n",
      "\n",
      "The actual linear program used to obtain the separating plane\n",
      "in the 3-dimensional space is that described in:\n",
      "[K. P. Bennett and O. L. Mangasarian: \"Robust Linear\n",
      "Programming Discrimination of Two Linearly Inseparable Sets\",\n",
      "Optimization Methods and Software 1, 1992, 23-34].\n",
      "\n",
      "This database is also available through the UW CS ftp server:\n",
      "\n",
      "ftp ftp.cs.wisc.edu\n",
      "cd math-prog/cpo-dataset/machine-learn/WDBC/\n",
      "\n",
      "References\n",
      "----------\n",
      "   - W.N. Street, W.H. Wolberg and O.L. Mangasarian. Nuclear feature extraction \n",
      "     for breast tumor diagnosis. IS&T/SPIE 1993 International Symposium on \n",
      "     Electronic Imaging: Science and Technology, volume 1905, pages 861-870,\n",
      "     San Jose, CA, 1993.\n",
      "   - O.L. Mangasarian, W.N. Street and W.H. Wolberg. Breast cancer diagnosis and \n",
      "     prognosis via linear programming. Operations Research, 43(4), pages 570-577, \n",
      "     July-August 1995.\n",
      "   - W.H. Wolberg, W.N. Street, and O.L. Mangasarian. Machine learning techniques\n",
      "     to diagnose breast cancer from fine-needle aspirates. Cancer Letters 77 (1994) \n",
      "     163-171.\n",
      "\n"
     ]
    }
   ],
   "source": [
    "# Generate a dataset \n",
    "from sklearn import datasets\n",
    "ds = datasets.load_breast_cancer(return_X_y = False)\n",
    "print(ds.DESCR)\n",
    "X = ds.data\n",
    "y = ds.target"
   ]
  },
  {
   "cell_type": "markdown",
   "metadata": {},
   "source": [
    "## Data preprocessing\n",
    "From the description above, it looks like my data might use some transformations. The first thing that I notice in the summary statistics table is that my variables have different ranges. Some between ~140 to ~2500 and others are between ~0.05 and ~0.1. A good practice would be standardize this data. Furthermore, I have 30 attributes in this data. That's a large number of attributes! I could go and calculate the correlations between these attributes and manually pick the ones I think are the most important. Or I could use a useful dimensionality reduction technique: Principal Component Analysis. I do not intend to implement PCA myself nor intensively analyse it, all I want is reduce my attributes from 30 to 3 (a number of my choice, you could try experimenting with another one). \n",
    "\n",
    "\n",
    "## Learning/Model selection\n",
    "The breast cancer problem is a classification problem. I haven't visualized my data yet (and I don't intend to do it since I can't decide which attributes to pick or even if my choice of 3 in PCA is good or not), hence I will be training a couple of models before making my decision. These models are decision trees, support vector machines and Fischer linear classifiers (LDA). My choice might be random, you can probably come up with better choices but that's fine. I am learning myself :)  \n",
    "\n",
    "### Pipelines\n",
    "Any kind of transformations we use before training the data needs to be reused for prediction. A useful tool in scikit-learn is the Pipeline which includes all the transformations steps we use and apply them on the new data. "
   ]
  },
  {
   "cell_type": "code",
   "execution_count": 3,
   "metadata": {},
   "outputs": [],
   "source": [
    "from sklearn.preprocessing import StandardScaler\n",
    "from sklearn.decomposition import PCA\n",
    "from sklearn.discriminant_analysis import LinearDiscriminantAnalysis\n",
    "from sklearn.tree import DecisionTreeClassifier\n",
    "from sklearn.svm import SVC\n",
    "from sklearn.pipeline import Pipeline\n",
    "\n",
    "#NOTE: I didn't specify any parameters for the DT and LDA, you should try that yourselves (google is your best friend)\n",
    "\n",
    "pipe_svm = Pipeline([('scl', StandardScaler()), ('pca', PCA(n_components=3)), ('clf', SVC(C=0.01, kernel='sigmoid'))])\n",
    "pipe_lda = Pipeline([('scl', StandardScaler()), ('pca', PCA(n_components=3)), ('clf', LinearDiscriminantAnalysis())])\n",
    "pipe_dt = Pipeline([('scl', StandardScaler()), ('pca', PCA(n_components=3)), ('clf', DecisionTreeClassifier())])"
   ]
  },
  {
   "cell_type": "markdown",
   "metadata": {},
   "source": [
    "## Almost there\n",
    "Now that I have my pieplines ready to test, I can split my data into training and testing. Remember that you always need different sets for your learning model. A model trained, tested and validated on the same dataset is useless!"
   ]
  },
  {
   "cell_type": "code",
   "execution_count": 4,
   "metadata": {},
   "outputs": [
    {
     "name": "stderr",
     "output_type": "stream",
     "text": [
      "/anaconda2/lib/python2.7/site-packages/sklearn/cross_validation.py:41: DeprecationWarning: This module was deprecated in version 0.18 in favor of the model_selection module into which all the refactored classes and functions are moved. Also note that the interface of the new CV iterators are different from that of this module. This module will be removed in 0.20.\n",
      "  \"This module will be removed in 0.20.\", DeprecationWarning)\n"
     ]
    }
   ],
   "source": [
    "from sklearn.cross_validation import train_test_split\n",
    "X_train, X_test, y_train, y_test = train_test_split(X, y, test_size=0.3, random_state=1)"
   ]
  },
  {
   "cell_type": "markdown",
   "metadata": {},
   "source": [
    "## Learning -1-\n",
    "Now that I will train my different models and see what results they give me. "
   ]
  },
  {
   "cell_type": "code",
   "execution_count": 5,
   "metadata": {},
   "outputs": [
    {
     "name": "stdout",
     "output_type": "stream",
     "text": [
      "Test SVM Accuracy: 0.901\n",
      "Test LDA Accuracy: 0.930\n",
      "Test DT Accuracy: 0.918\n"
     ]
    }
   ],
   "source": [
    "# Train SVM \n",
    "pipe_svm.fit(X_train, y_train)\n",
    "print('Test SVM Accuracy: %.3f' %pipe_svm.score(X_test, y_test))\n",
    "\n",
    "# Train LDA\n",
    "pipe_lda.fit(X_train, y_train)\n",
    "print('Test LDA Accuracy: %.3f' %pipe_lda.score(X_test, y_test))\n",
    "\n",
    "# Train DT\n",
    "pipe_dt.fit(X_train, y_train)\n",
    "print('Test DT Accuracy: %.3f' %pipe_dt.score(X_test, y_test))"
   ]
  },
  {
   "cell_type": "markdown",
   "metadata": {},
   "source": [
    "## Learning -2-\n",
    "It looks from the results above that LDA and DT should be my top choices. For the purpose of this tutorial, I'll continue working on the SVM. You are highly encouraged to play around with the other models. \n",
    "\n",
    "My next step should be to 1)make sure that my model will work well on unseen data and 2)that I picked the best model possible (aka I selected the optimal hyperparameters for my model). This is where cross-validation becomes handy. \n",
    "\n",
    "\n",
    "## Cross-validation\n",
    " Cross-validation helps us estimate the model's generalization error and tune the model hyperparameters. Please check the lecture notes for a good explanation of this method and its benefits. "
   ]
  },
  {
   "cell_type": "code",
   "execution_count": 6,
   "metadata": {},
   "outputs": [
    {
     "name": "stdout",
     "output_type": "stream",
     "text": [
      "Fold: 1, Class dist.: [134 224], Accuracy: 0.900\n",
      "Fold: 2, Class dist.: [134 224], Accuracy: 0.950\n",
      "Fold: 3, Class dist.: [134 224], Accuracy: 0.900\n",
      "Fold: 4, Class dist.: [134 224], Accuracy: 0.925\n",
      "Fold: 5, Class dist.: [134 224], Accuracy: 0.950\n",
      "Fold: 6, Class dist.: [134 224], Accuracy: 0.925\n",
      "Fold: 7, Class dist.: [134 224], Accuracy: 0.925\n",
      "Fold: 8, Class dist.: [134 224], Accuracy: 0.950\n",
      "Fold: 9, Class dist.: [134 224], Accuracy: 0.950\n",
      "Fold: 10, Class dist.: [135 225], Accuracy: 0.974\n",
      "CV accuracy: 0.935 +/- 0.023\n"
     ]
    }
   ],
   "source": [
    "from sklearn.cross_validation import StratifiedKFold\n",
    "kfold = StratifiedKFold(y=y_train, n_folds=10, random_state=1)\n",
    "scores = []\n",
    "for k, (train, test) in enumerate(kfold):\n",
    "    pipe_svm.fit(X_train[train], y_train[train])\n",
    "    score = pipe_svm.score(X_train[test], y_train[test])\n",
    "    scores.append(score)\n",
    "    print('Fold: %s, Class dist.: %s, Accuracy: %.3f' %(k+1, np.bincount(y_train[train]), score))\n",
    "    \n",
    "print('CV accuracy: %.3f +/- %.3f' %(np.mean(scores), np.std(scores)))"
   ]
  },
  {
   "cell_type": "markdown",
   "metadata": {},
   "source": [
    "## Evaluation\n",
    "It looks like my SVM is not a bad choice eventually. To further improve my model, I will be using the learning curves and validation curves to investigate if my model has some overfitting(high variance) or underfitting(high bias) issues. \n",
    "Models that re too complex (with many degrees of freedom or parameters) tend to overfit the training data and do not generalize to unseen data. Since data can be expensive in real life, plotting the training and validation accuracies is a good exercise to address this problem. "
   ]
  },
  {
   "cell_type": "code",
   "execution_count": 7,
   "metadata": {},
   "outputs": [
    {
     "name": "stderr",
     "output_type": "stream",
     "text": [
      "/anaconda2/lib/python2.7/site-packages/sklearn/learning_curve.py:22: DeprecationWarning: This module was deprecated in version 0.18 in favor of the model_selection module into which all the functions are moved. This module will be removed in 0.20\n",
      "  DeprecationWarning)\n"
     ]
    },
    {
     "data": {
      "image/png": "[encoded data removed]",
      "text/plain": [
       "<matplotlib.figure.Figure at 0x1a13708910>"
      ]
     },
     "metadata": {},
     "output_type": "display_data"
    }
   ],
   "source": [
    "from sklearn.learning_curve import learning_curve\n",
    "train_sizes, train_scores, test_scores = learning_curve(estimator=pipe_svm, X=X_train, y=y_train, train_sizes = np.linspace(.1, 1.0, 10), cv = 10, n_jobs=1)\n",
    "train_mean = np.mean(train_scores, axis=1)\n",
    "train_std = np.std(train_scores, axis =1)\n",
    "test_mean = np.mean(test_scores, axis=1)\n",
    "test_std = np.std(test_scores, axis =1)\n",
    "plt.plot(train_sizes, train_mean, color='blue', marker='o', markersize=5, label='training accuracy')\n",
    "plt.fill_between(train_sizes, train_mean+train_std, train_mean-train_std, alpha=.15, color='blue')\n",
    "plt.plot(train_sizes, test_mean, color='green', linestyle='--', marker='s', markersize=5, label='validation accuracy')\n",
    "plt.fill_between(train_sizes, test_mean+test_std, test_mean-test_std, alpha=.15, color='green')\n",
    "\n",
    "plt.grid()\n",
    "plt.xlabel('# of training samples')\n",
    "plt.ylabel('Accuracy')\n",
    "plt.legend(loc='lower right')\n",
    "plt.ylim([.8, 1.0])\n",
    "plt.show()"
   ]
  },
  {
   "cell_type": "markdown",
   "metadata": {},
   "source": [
    "I am not super happy with the way my model performs (I actually set it up to be bad for demonstration purposes). As you might have noted above, I made some choices of parameters that might not be the best (C=0.01, kernel='sigmoid').Choosing the kernel for an SVM depends on prior knowledge of the data. If such a knowledge doesn't exist then using RBF is a good choice (that's actually the default choice in sklearn). But also the penalty parameter C I set doesn't seem like a very educated guess. C controls how much we're penalizing a misclassification. A small C would cause the model to have large-margin separating plans while a large one would do the opposite. I cannot decide which value I should be using, nor which kernel would work best for me (although I can guess based on the lecture notes). Therefore, my next step should be experimenting with these parameters using the validation curves. Validation curves are similar to learning curves with the different that the accuracy is a function of the model parameters (C in this case) instead of the training size. Let's see what it looks like. "
   ]
  },
  {
   "cell_type": "code",
   "execution_count": 8,
   "metadata": {
    "scrolled": true
   },
   "outputs": [
    {
     "data": {
      "image/png": "[encoded data removed]",
      "text/plain": [
       "<matplotlib.figure.Figure at 0x1a1d33a7d0>"
      ]
     },
     "metadata": {},
     "output_type": "display_data"
    }
   ],
   "source": [
    "from sklearn.learning_curve import validation_curve \n",
    "param_range = [0.00001, 0.0001, 0.001, 0.01, 0.1, 1.0, 10.0, 100.0, 1000.0]\n",
    "train_scores, test_scores = validation_curve(estimator=pipe_svm, X=X_train, y=y_train, param_name='clf__C', param_range=param_range, cv=10)\n",
    "train_mean = np.mean(train_scores, axis=1)\n",
    "train_std = np.std(train_scores, axis=1)\n",
    "test_mean = np.mean(test_scores, axis=1)\n",
    "test_std = np.std(test_scores, axis=1)\n",
    "plt.plot(param_range, train_mean, color='blue', marker='o', markersize=5, label='training accuracy')\n",
    "plt.fill_between(param_range, train_mean+train_std, train_mean-train_std, alpha=.15, color='blue')\n",
    "plt.plot(param_range, test_mean, color='green', linestyle='--', marker='s', markersize=5, label='validation accuracy')\n",
    "plt.fill_between(param_range, test_mean+test_std, test_mean-test_std, alpha=.15, color='green')\n",
    "plt.grid()\n",
    "plt.xscale('log')\n",
    "plt.xlabel('Parameter C')\n",
    "plt.ylabel('Accuracy')\n",
    "plt.legend(loc='lower right')\n",
    "plt.ylim([.5, 1.0])\n",
    "plt.show()"
   ]
  },
  {
   "cell_type": "markdown",
   "metadata": {},
   "source": [
    "From the graph above, it looks like the best C should be around 0.01 and 0.1. I could use another hyperparameters optimization technique called grid search. Basically it is a brute-force search of the hypothesis space based on a list of different hyperparameters"
   ]
  },
  {
   "cell_type": "code",
   "execution_count": 11,
   "metadata": {},
   "outputs": [
    {
     "name": "stdout",
     "output_type": "stream",
     "text": [
      "0.982412060302\n",
      "{'clf__C': 0.1, 'clf__kernel': 'linear'}\n"
     ]
    }
   ],
   "source": [
    "from sklearn.grid_search import GridSearchCV\n",
    "param_range = [0.00001, 0.0001, 0.001, 0.01, 0.1, 1.0, 10.0, 100.0, 1000.1]\n",
    "pipe_gs = pipe_svm = Pipeline([('scl', StandardScaler()), ('clf', SVC())])\n",
    "param_grid = [{'clf__C': param_range,\n",
    "               'clf__kernel': ['linear']},\n",
    "               {'clf__C': param_range, \n",
    "               'clf__gamma': param_range, \n",
    "               'clf__kernel': ['poly']}]\n",
    "gs = GridSearchCV(estimator=pipe_gs, param_grid=param_grid, scoring='accuracy', cv=10)\n",
    "gs = gs.fit(X_train, y_train)\n",
    "print(gs.best_score_)\n",
    "print(gs.best_params_)"
   ]
  },
  {
   "cell_type": "markdown",
   "metadata": {},
   "source": [
    "## Conclusion\n",
    "From the result above, the parameters I should be using are 0.1 for C and linear for the kernel which isn't a very surprising choice. Now I have enough confidence in my model to use it on unseen data. Now it is your turn to play with the DT and LDA models :) "
   ]
  }
 ],
 "metadata": {
  "kernelspec": {
   "display_name": "Python 2",
   "language": "python",
   "name": "python2"
  },
  "language_info": {
   "codemirror_mode": {
    "name": "ipython",
    "version": 2
   },
   "file_extension": ".py",
   "mimetype": "text/x-python",
   "name": "python",
   "nbconvert_exporter": "python",
   "pygments_lexer": "ipython2",
   "version": "2.7.14"
  }
 },
 "nbformat": 4,
 "nbformat_minor": 2
}
